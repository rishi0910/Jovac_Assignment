{
 "cells": [
  {
   "cell_type": "code",
   "execution_count": null,
   "id": "0911377d",
   "metadata": {},
   "outputs": [
    {
     "name": "stdout",
     "output_type": "stream",
     "text": [
      "[ 1  2  3  4  5  6  7  8  9 10]\n",
      "[[1 2 3]\n",
      " [4 5 6]\n",
      " [7 8 9]]\n",
      "[[[0.22945188 0.74226589 0.11543264]\n",
      "  [0.6414808  0.18414536 0.2219739 ]\n",
      "  [0.27938325 0.91303046 0.72395262]\n",
      "  [0.87238755 0.14683106 0.4087595 ]\n",
      "  [0.31508712 0.97959115 0.89419985]]\n",
      "\n",
      " [[0.74060541 0.70152919 0.799217  ]\n",
      "  [0.20940756 0.34431569 0.17604271]\n",
      "  [0.11977414 0.84110428 0.64224347]\n",
      "  [0.18564329 0.00153544 0.48933548]\n",
      "  [0.41923414 0.55034797 0.19645127]]\n",
      "\n",
      " [[0.19687796 0.44162988 0.7842872 ]\n",
      "  [0.7254189  0.43805305 0.76917228]\n",
      "  [0.73067368 0.24815743 0.6797789 ]\n",
      "  [0.16544453 0.69191612 0.98302175]\n",
      "  [0.49215119 0.68888828 0.01506785]]]\n",
      "(10,) 10 int32\n",
      "(3, 3) 9 int32\n",
      "(3, 5, 3) 45 float64\n"
     ]
    }
   ],
   "source": [
    "import numpy as np\n",
    "arr1 = np.arange(1, 11)\n",
    "print(arr1)\n",
    "\n",
    "arr2 = np.arange(1, 10).reshape(3, 3)\n",
    "print(arr2)\n",
    "\n",
    "arr3 = np.random.rand(3, 5, 3)\n",
    "print(arr3)\n",
    "\n",
    "print(arr1.shape, arr1.size, arr1.dtype)\n",
    "print(arr2.shape, arr2.size, arr2.dtype)\n",
    "print(arr3.shape, arr3.size, arr3.dtype)"
   ]
  },
  {
   "cell_type": "code",
   "execution_count": 3,
   "id": "1334824b",
   "metadata": {},
   "outputs": [
    {
     "name": "stdout",
     "output_type": "stream",
     "text": [
      "[10 20 30]\n",
      "[10 30 50 70 90]\n",
      "[90 80 70 60 50 40 30 20 10]\n"
     ]
    }
   ],
   "source": [
    "data = np.array([10, 20, 30, 40, 50, 60, 70, 80, 90])\n",
    "\n",
    "print(data[:3])          \n",
    "print(data[::2]) \n",
    "print(data[::-1])       "
   ]
  },
  {
   "cell_type": "code",
   "execution_count": 4,
   "id": "500db21b",
   "metadata": {},
   "outputs": [
    {
     "name": "stdout",
     "output_type": "stream",
     "text": [
      "A: [ 5  3 15 16  7]\n",
      "B: [ 4  2  3 18  9]\n",
      "Add: [ 9  5 18 34 16]\n",
      "Subtract: [ 1  1 12 -2 -2]\n",
      "Multiply: [ 20   6  45 288  63]\n",
      "Divide: [1.25       1.5        5.         0.88888889 0.77777778]\n",
      "Dot Product: 422\n",
      "A Mean: 9.2\n",
      "A Median: 7.0\n",
      "A Std: 5.30659966456864\n",
      "A Var: 28.160000000000004\n",
      "B Max: 18 at index 3\n",
      "B Min: 2 at index 1\n"
     ]
    }
   ],
   "source": [
    "# Mathematical Ops\n",
    "A = np.random.randint(1, 21, 5)\n",
    "B = np.random.randint(1, 21, 5)\n",
    "\n",
    "print(\"A:\", A)\n",
    "print(\"B:\", B)\n",
    "\n",
    "print(\"Add:\", A + B)\n",
    "print(\"Subtract:\", A - B)\n",
    "print(\"Multiply:\", A * B)\n",
    "print(\"Divide:\", A / B)\n",
    "\n",
    "print(\"Dot Product:\", np.dot(A, B))\n",
    "\n",
    "print(\"A Mean:\", np.mean(A))\n",
    "print(\"A Median:\", np.median(A))\n",
    "print(\"A Std:\", np.std(A))\n",
    "print(\"A Var:\", np.var(A))\n",
    "\n",
    "print(\"B Max:\", np.max(B), \"at index\", np.argmax(B))\n",
    "print(\"B Min:\", np.min(B), \"at index\", np.argmin(B))"
   ]
  },
  {
   "cell_type": "code",
   "execution_count": 5,
   "id": "4f1e7ba4",
   "metadata": {},
   "outputs": [
    {
     "name": "stdout",
     "output_type": "stream",
     "text": [
      "[[ 1  2  3]\n",
      " [ 4  5  6]\n",
      " [ 7  8  9]\n",
      " [10 11 12]]\n",
      "[[[ 1  2  3]\n",
      "  [ 4  5  6]]\n",
      "\n",
      " [[ 7  8  9]\n",
      "  [10 11 12]]]\n",
      "[[ 1  4  7 10]\n",
      " [ 2  5  8 11]\n",
      " [ 3  6  9 12]]\n",
      "Transposed shape: (3, 4)\n"
     ]
    }
   ],
   "source": [
    "# Reshaping And Trnasposing\n",
    "arr = np.arange(1, 13)\n",
    "\n",
    "arr2d = arr.reshape(4, 3)\n",
    "print(arr2d)\n",
    "\n",
    "arr3d = arr.reshape(2, 2, 3)\n",
    "print(arr3d)\n",
    "\n",
    "transposed = arr2d.T\n",
    "print(transposed)\n",
    "print(\"Transposed shape:\", transposed.shape)"
   ]
  },
  {
   "cell_type": "code",
   "execution_count": 6,
   "id": "846425c5",
   "metadata": {},
   "outputs": [
    {
     "name": "stdout",
     "output_type": "stream",
     "text": [
      "Array: [38 47 27 19 19 37 34 44 18 24 42 13 30 33 46]\n",
      "Elements >25: [38 47 27 37 34 44 42 30 33 46]\n",
      "After replacing <30 with 0: [38 47  0  0  0 37 34 44  0  0 42  0 30 33 46]\n",
      "Count divisible by 5: 7\n"
     ]
    }
   ],
   "source": [
    "# Boolean masking and filtering \n",
    "arr = np.random.randint(10, 51, 15)\n",
    "print(\"Array:\", arr)\n",
    "\n",
    "print(\"Elements >25:\", arr[arr > 25])\n",
    "\n",
    "arr[arr < 30] = 0\n",
    "print(\"After replacing <30 with 0:\", arr)\n",
    "\n",
    "print(\"Count divisible by 5:\", np.sum(arr % 5 == 0))"
   ]
  },
  {
   "cell_type": "code",
   "execution_count": 7,
   "id": "8908b900",
   "metadata": {},
   "outputs": [
    {
     "name": "stdout",
     "output_type": "stream",
     "text": [
      "[0.         0.11111111 0.22222222 0.33333333 0.44444444 0.55555556\n",
      " 0.66666667 0.77777778 0.88888889 1.        ]\n",
      "[[1. 0. 0. 0.]\n",
      " [0. 1. 0. 0.]\n",
      " [0. 0. 1. 0.]\n",
      " [0. 0. 0. 1.]]\n",
      "Sorted: [ 5 12 16 19 28 29 30 30 36 37 38 59 59 61 61 66 67 91 94 94]\n",
      "5 largest: [66 67 91 94 94]\n"
     ]
    }
   ],
   "source": [
    "# Working with built in functions\n",
    "print(np.linspace(0, 1, 10))\n",
    "\n",
    "print(np.eye(4))\n",
    "\n",
    "arr = np.random.randint(1, 101, 20)\n",
    "arr.sort()\n",
    "print(\"Sorted:\", arr)\n",
    "print(\"5 largest:\", arr[-5:])"
   ]
  },
  {
   "cell_type": "code",
   "execution_count": null,
   "id": "edcdcd40",
   "metadata": {},
   "outputs": [],
   "source": []
  }
 ],
 "metadata": {
  "kernelspec": {
   "display_name": "base",
   "language": "python",
   "name": "python3"
  },
  "language_info": {
   "codemirror_mode": {
    "name": "ipython",
    "version": 3
   },
   "file_extension": ".py",
   "mimetype": "text/x-python",
   "name": "python",
   "nbconvert_exporter": "python",
   "pygments_lexer": "ipython3",
   "version": "3.11.7"
  }
 },
 "nbformat": 4,
 "nbformat_minor": 5
}
